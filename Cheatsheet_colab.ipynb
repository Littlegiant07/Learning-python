{
  "nbformat": 4,
  "nbformat_minor": 0,
  "metadata": {
    "colab": {
      "provenance": [],
      "authorship_tag": "ABX9TyPcNzLJA+K0s4/aQUrlAWt9"
    },
    "kernelspec": {
      "name": "python3",
      "display_name": "Python 3"
    },
    "language_info": {
      "name": "python"
    }
  },
  "cells": [
    {
      "cell_type": "markdown",
      "source": [
        "#Learning Google colab \n",
        "Editing shortcuts\n",
        "- Undo last action (inside a cell): ctrl + m + z\n",
        "- Find and replace: ctrl + m + h\n",
        "- Insert code cell above: ctrl + m + a\n",
        "- Insert code cell below: ctrl + m + b\n",
        "- Delete cell: ctrl + m + d"
      ],
      "metadata": {
        "id": "WU06tfB56hEB"
      }
    },
    {
      "cell_type": "markdown",
      "source": [
        "#RUN BASH COMMANDS\n",
        "Bash commands can be run by prefixing the command with ‘!’.\n",
        "Example:\n",
        "\n",
        "- Download dataset from the web with `!wget <ENTER URL>`\n",
        "- Install libraries with !pip install `<LIBRARY> ` or `!apt-get install <LIBRARY>`\n",
        "- Run an existing .py script with `!python script.py`\n",
        "- Clone a git repository with `!git clone <REPOSITORY URL>`"
      ],
      "metadata": {
        "id": "WMbvc_qn9FKO"
      }
    },
    {
      "cell_type": "markdown",
      "source": [
        "To upload a file (or several) from your computer, run:\n",
        "\n",
        "```\n",
        "from google.colab import files\n",
        "files.upload()\n",
        "```\n",
        "To download a file, run:\n",
        "\n",
        "```\n",
        "from google.colab import files\n",
        "files.download('path/to/your/file')\n",
        "```\n",
        "Another way to do this is to use the file explorer on the left panel, with drags & drops."
      ],
      "metadata": {
        "id": "T-VHrX3s-XQf"
      }
    },
    {
      "cell_type": "markdown",
      "source": [],
      "metadata": {
        "id": "qJPGH0Zl-qzA"
      }
    }
  ]
}